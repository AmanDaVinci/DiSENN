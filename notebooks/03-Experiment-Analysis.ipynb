{
 "cells": [
  {
   "cell_type": "markdown",
   "metadata": {},
   "source": [
    "# Experiment Analysis\n",
    "---"
   ]
  },
  {
   "cell_type": "markdown",
   "metadata": {},
   "source": [
    "## Experiment: Celeba Default\n",
    "**How long does it take to achieve a reasonable accuracy?**"
   ]
  },
  {
   "cell_type": "markdown",
   "metadata": {},
   "source": [
    "**Train Accuracy**"
   ]
  },
  {
   "cell_type": "markdown",
   "metadata": {},
   "source": [
    "<img src=\"../results/celeba_default/Accuracy_Train.svg\" alt=\"Train Accuracy\" width=\"300\"/>"
   ]
  },
  {
   "cell_type": "markdown",
   "metadata": {},
   "source": [
    "**Validation Accuracy**"
   ]
  },
  {
   "cell_type": "markdown",
   "metadata": {},
   "source": [
    "<img src=\"../results/celeba_default/Accuracy_Valid.svg\" alt=\"Validation Accuracy\" width=\"300\"/>"
   ]
  },
  {
   "cell_type": "markdown",
   "metadata": {},
   "source": [
    "## Experiment: Pretraining = True, False\n",
    "**Does pretraining help?**"
   ]
  },
  {
   "cell_type": "markdown",
   "metadata": {},
   "source": [
    "**Training Progress after pre-training**"
   ]
  },
  {
   "cell_type": "markdown",
   "metadata": {},
   "source": [
    "<img src=\"../results/celeba_5epochs/Accuracy_Train.svg\" alt=\"Train Accuracy\" width=\"300\"/>"
   ]
  },
  {
   "cell_type": "markdown",
   "metadata": {},
   "source": [
    "**Training Progress without pre-training**"
   ]
  },
  {
   "cell_type": "markdown",
   "metadata": {},
   "source": [
    "<img src=\"../results/celeba_no_pretraining/Accuracy_Train.svg\" alt=\"Train Accuracy\" width=\"300\"/>"
   ]
  },
  {
   "cell_type": "markdown",
   "metadata": {},
   "source": [
    "**KL Divergence just resets**"
   ]
  },
  {
   "cell_type": "markdown",
   "metadata": {},
   "source": [
    "<img src=\"../results/celeba_5epochs/Loss_Train_KL_Divergence.svg\" width=\"300\"/>"
   ]
  },
  {
   "cell_type": "markdown",
   "metadata": {},
   "source": [
    "<img src=\"../results/celeba_no_pretraining/Loss_Train_KL_Divergence.svg\" width=\"300\"/>"
   ]
  },
  {
   "cell_type": "markdown",
   "metadata": {},
   "source": [
    "## Experiment: Beta = 0, 0.5, 1\n",
    "**How does kl divergence and reconstruction relate to each other?**"
   ]
  },
  {
   "cell_type": "markdown",
   "metadata": {},
   "source": [
    "**Variance of KL Divergence**"
   ]
  },
  {
   "cell_type": "markdown",
   "metadata": {},
   "source": [
    "<img src=\"../results/celeba_beta0/Loss_Train_KL_Divergence.svg\" width=\"300\"/>\n",
    "<img src=\"../results/celeba_beta0-5/Loss_Train_KL_Divergence.svg\" width=\"300\"/>\n",
    "<img src=\"../results/celeba_beta1/Loss_Train_KL_Divergence.svg\" width=\"300\"/>"
   ]
  },
  {
   "cell_type": "markdown",
   "metadata": {},
   "source": [
    "**Variance of reconstruction loss**"
   ]
  },
  {
   "cell_type": "markdown",
   "metadata": {},
   "source": [
    "<img src=\"../results/celeba_beta0/Loss_Train_Reconstruction_loss.svg\" width=\"300\"/>\n",
    "<img src=\"../results/celeba_beta0-5/Loss_Train_Reconstruction_loss.svg\" width=\"300\"/>\n",
    "<img src=\"../results/celeba_beta1/Loss_Train_Reconstruction_loss.svg\" width=\"300\"/>"
   ]
  },
  {
   "cell_type": "markdown",
   "metadata": {},
   "source": [
    "* KL divergence and Reconstruction loss are a trade-off\n",
    "* For good reconstruction the KL divergence goes really high\n",
    "* This results in high quality entangled prototypes \n",
    "* We need to do beta annealing"
   ]
  }
 ],
 "metadata": {
  "kernelspec": {
   "display_name": "Python [conda env:disenn] *",
   "language": "python",
   "name": "conda-env-disenn-py"
  },
  "language_info": {
   "codemirror_mode": {
    "name": "ipython",
    "version": 3
   },
   "file_extension": ".py",
   "mimetype": "text/x-python",
   "name": "python",
   "nbconvert_exporter": "python",
   "pygments_lexer": "ipython3",
   "version": "3.7.6"
  }
 },
 "nbformat": 4,
 "nbformat_minor": 4
}
