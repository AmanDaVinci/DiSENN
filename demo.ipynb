{
 "cells": [
  {
   "cell_type": "code",
   "execution_count": 1,
   "metadata": {},
   "outputs": [],
   "source": [
    "%load_ext autoreload\n",
    "%autoreload 2"
   ]
  },
  {
   "cell_type": "code",
   "execution_count": 2,
   "metadata": {},
   "outputs": [],
   "source": [
    "CONFIG = {\n",
    "    \"seed\": 42,\n",
    "    \"debug\": True,\n",
    "    \"device\": 'cpu',\n",
    "    \"train\": True,\n",
    "    \"download\": False,\n",
    "    \"valid_freq\": 2,\n",
    "    \"save_freq\": 2\n",
    "}"
   ]
  },
  {
   "cell_type": "code",
   "execution_count": 3,
   "metadata": {},
   "outputs": [],
   "source": [
    "config = {\n",
    "    \"exp_name\": 'celeba_test',\n",
    "    \"epochs\": 1,\n",
    "    \"data\": 'celeba',\n",
    "    \"target\": 'Male',\n",
    "    \"conceptizer\": 'VaeConceptizer',\n",
    "    \"num_concepts\": 5,\n",
    "    \"beta\": 4,\n",
    "    \"parameterizer\": 'ConvParameterizer',\n",
    "    \"num_classes\": 2,\n",
    "    \"robustness_reg\": 1e-4,\n",
    "    \"aggregator\": 'SumAggregator',\n",
    "    \"concept_loss\": 'bvae_loss',\n",
    "    \"robustness_loss\": 'celeba_robustness_loss',\n",
    "    \"learning_rate\": 1e-3,\n",
    "    \"batch_size\": 16,\n",
    "    \"load_checkpoint\": 'Epoch[0]-Step[0].pt',\n",
    "    \"pretrain_epochs\": 0,\n",
    "    \"pre-beta\": 1\n",
    "}\n",
    "\n",
    "CONFIG.update(config)"
   ]
  },
  {
   "cell_type": "code",
   "execution_count": 4,
   "metadata": {},
   "outputs": [],
   "source": [
    "from disenn.trainer import DiSENN_Trainer"
   ]
  },
  {
   "cell_type": "code",
   "execution_count": 5,
   "metadata": {},
   "outputs": [],
   "source": [
    "trainer = DiSENN_Trainer(CONFIG)"
   ]
  },
  {
   "cell_type": "code",
   "execution_count": 6,
   "metadata": {},
   "outputs": [],
   "source": [
    "trainer.run()"
   ]
  },
  {
   "cell_type": "code",
   "execution_count": null,
   "metadata": {},
   "outputs": [],
   "source": []
  }
 ],
 "metadata": {
  "kernelspec": {
   "display_name": "Python 3.7.6 64-bit ('disenn': conda)",
   "language": "python",
   "name": "python37664bitdisennconda369c2df78b0e43dab968fa9e2f7dbd37"
  },
  "language_info": {
   "codemirror_mode": {
    "name": "ipython",
    "version": 3
   },
   "file_extension": ".py",
   "mimetype": "text/x-python",
   "name": "python",
   "nbconvert_exporter": "python",
   "pygments_lexer": "ipython3",
   "version": "3.7.6"
  },
  "toc": {
   "base_numbering": 1,
   "nav_menu": {},
   "number_sections": true,
   "sideBar": true,
   "skip_h1_title": false,
   "title_cell": "Table of Contents",
   "title_sidebar": "Contents",
   "toc_cell": false,
   "toc_position": {},
   "toc_section_display": true,
   "toc_window_display": true
  }
 },
 "nbformat": 4,
 "nbformat_minor": 4
}
